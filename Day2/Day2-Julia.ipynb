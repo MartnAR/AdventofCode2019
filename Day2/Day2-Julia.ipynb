{
 "cells": [
  {
   "cell_type": "code",
   "execution_count": 1,
   "metadata": {},
   "outputs": [],
   "source": [
    "# Import packages \n",
    "using CSV"
   ]
  },
  {
   "cell_type": "code",
   "execution_count": 2,
   "metadata": {},
   "outputs": [
    {
     "data": {
      "text/plain": [
       "1×153 Array{Int64,2}:\n",
       " 1  0  0  3  1  1  2  3  1  3  4  3  …  143  1  13  143  0  99  2  0  14  0"
      ]
     },
     "execution_count": 2,
     "metadata": {},
     "output_type": "execute_result"
    }
   ],
   "source": [
    "# Read file delimited by commas. Convert to array \n",
    "code = CSV.read(\"d2p1input.csv\", delim=\",\", header=false)\n",
    "codeClean = Array(code)"
   ]
  },
  {
   "cell_type": "code",
   "execution_count": 3,
   "metadata": {},
   "outputs": [
    {
     "data": {
      "text/plain": [
       "readOpcode (generic function with 1 method)"
      ]
     },
     "execution_count": 3,
     "metadata": {},
     "output_type": "execute_result"
    }
   ],
   "source": [
    "# Function that reads array and outputs the value changed at position 1. \n",
    "# The input works with zero-indexing, so, to accomodate Julia that uses one-indexing, each slice needs to be added 1. \n",
    "function readOpcode(opcode, i, j)\n",
    "    opcode[2] = i\n",
    "    opcode[3] = j\n",
    "    x = 1\n",
    "    while x < length(opcode)\n",
    "        initialPos = x\n",
    "        x += 1\n",
    "        param1 = opcode[x]+1\n",
    "        x += 1\n",
    "        param2 = opcode[x]+1\n",
    "        x += 1 \n",
    "        param3 = opcode[x]+1\n",
    "        x += 1\n",
    "        if opcode[initialPos] == 1\n",
    "            opcode[param3] = opcode[param1] + opcode[param2]\n",
    "        elseif opcode[initialPos] == 2\n",
    "            opcode[param3] = opcode[param1] * opcode[param2]\n",
    "        elseif opcode[initialPos] == 99\n",
    "            break  \n",
    "        end\n",
    "    end\n",
    "    return opcode[1]\n",
    "end "
   ]
  },
  {
   "cell_type": "code",
   "execution_count": 4,
   "metadata": {},
   "outputs": [
    {
     "data": {
      "text/plain": [
       "7210630"
      ]
     },
     "execution_count": 4,
     "metadata": {},
     "output_type": "execute_result"
    }
   ],
   "source": [
    "# Run the function\n",
    "readOpcode(codeClean, 12, 2)"
   ]
  },
  {
   "cell_type": "code",
   "execution_count": 5,
   "metadata": {},
   "outputs": [
    {
     "data": {
      "text/plain": [
       "19690720"
      ]
     },
     "execution_count": 5,
     "metadata": {},
     "output_type": "execute_result"
    }
   ],
   "source": [
    "# Initiate the array again; set target for part 2 \n",
    "codeClean = Array(code)\n",
    "target = 19690720"
   ]
  },
  {
   "cell_type": "code",
   "execution_count": 6,
   "metadata": {},
   "outputs": [
    {
     "name": "stdout",
     "output_type": "stream",
     "text": [
      "Value 1: 38; Value 2: 92; Combined: 3892"
     ]
    }
   ],
   "source": [
    "# Loop over variables i and j to find integers that result in codeClean[1] == target. \n",
    "for i in range(1,stop=100)\n",
    "    for j in range(1,stop=100)\n",
    "        p = [x for x in codeClean]\n",
    "        readOpcode(p, i, j)\n",
    "        if p[1] == 19690720\n",
    "            print(\"Value 1: \", i, \"; Value 2: \", j, \"; Combined: \", 100 * i + j)\n",
    "        end\n",
    "    end\n",
    "end"
   ]
  }
 ],
 "metadata": {
  "kernelspec": {
   "display_name": "Julia 1.3.0",
   "language": "julia",
   "name": "julia-1.3"
  },
  "language_info": {
   "file_extension": ".jl",
   "mimetype": "application/julia",
   "name": "julia",
   "version": "1.3.0"
  }
 },
 "nbformat": 4,
 "nbformat_minor": 4
}
