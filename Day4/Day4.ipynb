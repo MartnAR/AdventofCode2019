{
 "cells": [
  {
   "cell_type": "code",
   "execution_count": 268,
   "metadata": {},
   "outputs": [],
   "source": [
    "# Import packages\n",
    "import re"
   ]
  },
  {
   "cell_type": "code",
   "execution_count": null,
   "metadata": {},
   "outputs": [],
   "source": [
    "# Set target variables\n",
    "target1 = 145852\n",
    "target2 = 616942"
   ]
  },
  {
   "cell_type": "code",
   "execution_count": 311,
   "metadata": {},
   "outputs": [],
   "source": [
    "def num_split(n): \n",
    "    \"\"\" \n",
    "    Function takes a number, converts it into a string, and returns each individual integer as part of a list. \n",
    "    \"\"\"\n",
    "    n = str(n)\n",
    "    return [int(char) for char in n]"
   ]
  },
  {
   "cell_type": "code",
   "execution_count": null,
   "metadata": {},
   "outputs": [],
   "source": [
    "def num_increase(n): \n",
    "    '''\n",
    "    Function takes in a list and checks that each preceding integer is greater or equal than the previous one. Marks 1 if condition is met. \n",
    "    '''\n",
    "    a, b, c, d, e, f = n[0], n[1], n[2], n[3], n[4], n[5]\n",
    "    if a <= b & b <= c & c <= d & d <= e & e <= f:\n",
    "        return '1'\n",
    "    else: \n",
    "        return '0'"
   ]
  },
  {
   "cell_type": "code",
   "execution_count": 158,
   "metadata": {},
   "outputs": [],
   "source": [
    "def adj_num(n): \n",
    "    '''\n",
    "    Function takes in a list and checks if two or more adjacent integers are equal to each other. Marks 1 if condition is met. \n",
    "    '''\n",
    "    a, b, c, d, e, f = n[0], n[1], n[2], n[3], n[4], n[5]\n",
    "    if a == b or b == c or c == d or d == e or e == f:\n",
    "        return '1'\n",
    "    else: \n",
    "        return '0'"
   ]
  },
  {
   "cell_type": "code",
   "execution_count": 313,
   "metadata": {},
   "outputs": [
    {
     "data": {
      "text/plain": [
       "1767"
      ]
     },
     "execution_count": 313,
     "metadata": {},
     "output_type": "execute_result"
    }
   ],
   "source": [
    "## Part 1 \n",
    "# Initiates an empty list in which to store the variables \n",
    "criteria = []\n",
    "\n",
    "# Loop iterates all variables between target1 and target2 \n",
    "for i in range(target1, target2): \n",
    "    n = num_split(i)\n",
    "    x = adj_num(n)\n",
    "    y = num_increase(n)\n",
    "    \n",
    "    # If both conditions for x and y are met, then the variable is stored in the criteria list \n",
    "    if x == '1' and y == '1':\n",
    "        criteria.append(i)\n",
    "        \n",
    "# Print number of variables that meet the criteria\n",
    "len(criteria)"
   ]
  },
  {
   "cell_type": "code",
   "execution_count": 315,
   "metadata": {},
   "outputs": [
    {
     "name": "stdout",
     "output_type": "stream",
     "text": [
      "1192\n"
     ]
    }
   ],
   "source": [
    "## Part 2 \n",
    "# Initiates a second empty list in which to store the variables that meet the additional criteria of having two adjacent numbers that are no longer than 2. \n",
    "criteria2 = []\n",
    "\n",
    "# Loops through the variables that met the initial criteria \n",
    "for i in criteria: \n",
    "    # Uses regex to find all numbers that occur two times or more. \n",
    "    x = re.findall(r'(\\d)\\1{1,}', str(i))\n",
    "    # Splits the initial variable.\n",
    "    n = num_split(i)\n",
    "    \n",
    "    # Initiates empty list to store a list with all the numbers that have been found in x \n",
    "    ls = []\n",
    "    for j in x:\n",
    "        l = []\n",
    "        for k in n: \n",
    "            if k == int(j): \n",
    "                # If a number happens two or more times, it is stored in this list. \n",
    "                l.append(k)\n",
    "        ls.append(l)\n",
    "        \n",
    "    # Initiatie count \n",
    "    count = 0\n",
    "    # If in list ls there is a sublist equal to two numbers, then the count increases by 1. \n",
    "    for m in ls: \n",
    "        if len(m) == 2: \n",
    "            count += 1\n",
    "    # If count is greater or equal to 1, then the variable has met the additional criteria of part two and is stored in the criteria2 list. \n",
    "    if count >= 1: \n",
    "        criteria2.append(i)\n",
    "\n",
    "# Print number of variables that meet part 2 criteria. \n",
    "print(len(criteria2))"
   ]
  }
 ],
 "metadata": {
  "kernelspec": {
   "display_name": "Python 3",
   "language": "python",
   "name": "python3"
  },
  "language_info": {
   "codemirror_mode": {
    "name": "ipython",
    "version": 3
   },
   "file_extension": ".py",
   "mimetype": "text/x-python",
   "name": "python",
   "nbconvert_exporter": "python",
   "pygments_lexer": "ipython3",
   "version": "3.6.8"
  }
 },
 "nbformat": 4,
 "nbformat_minor": 4
}
