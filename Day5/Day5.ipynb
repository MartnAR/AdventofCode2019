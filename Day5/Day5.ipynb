{
 "cells": [
  {
   "cell_type": "code",
   "execution_count": 5,
   "metadata": {},
   "outputs": [
    {
     "data": {
      "text/plain": [
       "[3, 225, 1, 225, 6, 6, 1100, 1, 238, 225]"
      ]
     },
     "execution_count": 5,
     "metadata": {},
     "output_type": "execute_result"
    }
   ],
   "source": [
    "# Open data, convert every digit to integer, and split the data. \n",
    "opcode = [int(x) for x in open('d5p1input').read().split(',')]\n",
    "opcode[:10]"
   ]
  },
  {
   "cell_type": "code",
   "execution_count": 2,
   "metadata": {},
   "outputs": [],
   "source": [
    "## Part 1 \n",
    "# Upgrade of day 2  \n",
    "def readOpcode(opcode, x):\n",
    "    '''\n",
    "    Function takes two arguments: opcode, and x. These are a list and an integer that then run through the opcode. If an opcode of '03' is reached, the value at \n",
    "    opcode[int+1] is overwritten by the argument x. \n",
    "    '''\n",
    "    # Initiate i as 0 to update and split the opcode \n",
    "    i = 0\n",
    "    # Store outputs from opcode '04'\n",
    "    output = []\n",
    "    \n",
    "    # While a break does not occur. \n",
    "    while opcode[i] != 99: \n",
    "        # Pad every opcode with forward 0s for parameter reading. \n",
    "        numString = str(opcode[i]).zfill(5)\n",
    "        # Store first three integers in a list \n",
    "        param = list(numString[:3])\n",
    "        # Last two digits will identify what instruction must follow \n",
    "        lastDigit = numString[3:]\n",
    "\n",
    "        if lastDigit in ('01', '02', '07', '08'): \n",
    "            part = opcode[i:i+4]\n",
    "            # conditionals that determine which value must be used (immediate or position)\n",
    "            o1 = int(opcode[part[1]] if param[2] == '0' else part[1])\n",
    "            o2 = int(opcode[part[2]] if param[1] == '0' else part[2])\n",
    "            o3 = int(opcode[part[3]] if param[0] == '1' else part[3])\n",
    "            if lastDigit in ('01', '02'):\n",
    "                result = int(o1 + o2 if lastDigit == '01' else o1 * o2)\n",
    "            elif lastDigit == '07':\n",
    "                result = int(1 if o1 < o2 else 0)\n",
    "            else: \n",
    "                result = int(1 if o1 == o2 else 0)\n",
    "            opcode[o3] = result\n",
    "            # Jumps four spaces on the list to split next segment\n",
    "            i += 4\n",
    "        elif lastDigit in ('03','04'):\n",
    "            part = opcode[i:i+2]\n",
    "            if part[0] == 3: \n",
    "                # Replaces value with argument x \n",
    "                opcode[part[1]] = x\n",
    "            else: \n",
    "                # Stores value in output list \n",
    "                op = opcode[part[1]]\n",
    "                output.append(op)\n",
    "            # Jumps two spaces on the list to split next segment\n",
    "            i += 2   \n",
    "        elif lastDigit in ('05'):\n",
    "            part = opcode[i:i+3]\n",
    "            o1 = int(opcode[part[1]] if param[2] == '0' else part[1])\n",
    "            o2 = int(opcode[part[2]] if param[1] == '0' else part[2])\n",
    "            i = int(o2 if o1 != 0 else i + 3)\n",
    "        elif lastDigit in ('06'):\n",
    "            part = opcode[i:i+3]\n",
    "            o1 = int(opcode[part[1]] if param[2] == '0' else part[1])\n",
    "            o2 = int(opcode[part[2]] if param[1] == '0' else part[2])\n",
    "            i = int(i + 3 if o1 != 0 else o2)\n",
    "        elif opcode[i] == 99: \n",
    "            break\n",
    "            \n",
    "    # Last item on the list is the answer\n",
    "    return output[-1]"
   ]
  },
  {
   "cell_type": "code",
   "execution_count": 3,
   "metadata": {},
   "outputs": [
    {
     "data": {
      "text/plain": [
       "7265618"
      ]
     },
     "execution_count": 3,
     "metadata": {},
     "output_type": "execute_result"
    }
   ],
   "source": [
    "## Part 1 \n",
    "readOpcode(opcode, 1)"
   ]
  },
  {
   "cell_type": "code",
   "execution_count": 6,
   "metadata": {},
   "outputs": [
    {
     "data": {
      "text/plain": [
       "7731427"
      ]
     },
     "execution_count": 6,
     "metadata": {},
     "output_type": "execute_result"
    }
   ],
   "source": [
    "## Part 2 \n",
    "readOpcode(opcode, 5)"
   ]
  },
  {
   "cell_type": "code",
   "execution_count": null,
   "metadata": {},
   "outputs": [],
   "source": []
  }
 ],
 "metadata": {
  "kernelspec": {
   "display_name": "Python 3",
   "language": "python",
   "name": "python3"
  },
  "language_info": {
   "codemirror_mode": {
    "name": "ipython",
    "version": 3
   },
   "file_extension": ".py",
   "mimetype": "text/x-python",
   "name": "python",
   "nbconvert_exporter": "python",
   "pygments_lexer": "ipython3",
   "version": "3.6.8"
  }
 },
 "nbformat": 4,
 "nbformat_minor": 4
}
