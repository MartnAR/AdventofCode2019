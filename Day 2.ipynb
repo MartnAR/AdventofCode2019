{
 "cells": [
  {
   "cell_type": "code",
   "execution_count": 10,
   "metadata": {},
   "outputs": [],
   "source": [
    "# Import packages \n",
    "import numpy as np "
   ]
  },
  {
   "cell_type": "code",
   "execution_count": 11,
   "metadata": {},
   "outputs": [
    {
     "data": {
      "text/plain": [
       "[1, 0, 0, 3, 1, 1, 2, 3, 1, 3]"
      ]
     },
     "execution_count": 11,
     "metadata": {},
     "output_type": "execute_result"
    }
   ],
   "source": [
    "# Open data, convert every digit to integer, and split the data. \n",
    "input1 = [int(x) for x in open('d2p1input').read().split(',')]\n",
    "input1[:10]"
   ]
  },
  {
   "cell_type": "code",
   "execution_count": 25,
   "metadata": {},
   "outputs": [],
   "source": [
    "## Part 1 \n",
    "# Function that runs through the opcode and returns the first value of the opcode. \n",
    "def readOpcode(opcode, i, j):\n",
    "    '''\n",
    "    Function takes three arguments: opcode, i, and j. These are a list and two integers that then run through the opcode, reading subsets of 4 integers and overwriting the\n",
    "    opcode in the process. \n",
    "    '''\n",
    "    opcode[1] = i\n",
    "    opcode[2] = j\n",
    "    read = np.arange(0, len(opcode), 4)\n",
    "    for i in read: \n",
    "        part = opcode[i:i+4]\n",
    "        if part[0] == 1: \n",
    "            opcode[part[3]] = opcode[part[1]] + opcode[part[2]] \n",
    "        elif part[0] == 2: \n",
    "            opcode[part[3]] = opcode[part[1]] * opcode[part[2]] \n",
    "        elif part[0] == 99:\n",
    "            break"
   ]
  },
  {
   "cell_type": "code",
   "execution_count": 26,
   "metadata": {},
   "outputs": [
    {
     "name": "stdout",
     "output_type": "stream",
     "text": [
      "7210630\n"
     ]
    }
   ],
   "source": [
    "# Run function\n",
    "readOpcode(input1, 12, 2)\n",
    "print(input1[0])"
   ]
  },
  {
   "cell_type": "code",
   "execution_count": 27,
   "metadata": {},
   "outputs": [],
   "source": [
    "## Part 2 \n",
    "# Reset input1 \n",
    "input1 = [int(x) for x in open('d2p1input').read().split(',')]\n",
    "\n",
    "# For this section, we need to find the combination of integers that result in opcode[0] = 19690720\n",
    "target = 19690720"
   ]
  },
  {
   "cell_type": "code",
   "execution_count": 28,
   "metadata": {},
   "outputs": [
    {
     "name": "stdout",
     "output_type": "stream",
     "text": [
      "38 92 3892\n"
     ]
    }
   ],
   "source": [
    "# Run a loop through all integers from 0 to 99 through the function and print out the values if the result is equal to the target \n",
    "for i in range(100): \n",
    "    for j in range(100): \n",
    "        p = [x for x in input1]\n",
    "        readOpcode(p, i, j)\n",
    "        if p[0] == 19690720: \n",
    "            print(i, j, 100 * i + j)"
   ]
  },
  {
   "cell_type": "code",
   "execution_count": null,
   "metadata": {},
   "outputs": [],
   "source": []
  }
 ],
 "metadata": {
  "kernelspec": {
   "display_name": "Python 3",
   "language": "python",
   "name": "python3"
  },
  "language_info": {
   "codemirror_mode": {
    "name": "ipython",
    "version": 3
   },
   "file_extension": ".py",
   "mimetype": "text/x-python",
   "name": "python",
   "nbconvert_exporter": "python",
   "pygments_lexer": "ipython3",
   "version": "3.6.8"
  }
 },
 "nbformat": 4,
 "nbformat_minor": 4
}
