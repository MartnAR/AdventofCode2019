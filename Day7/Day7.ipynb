{
 "cells": [
  {
   "cell_type": "code",
   "execution_count": 1,
   "metadata": {},
   "outputs": [],
   "source": [
    "# Import packages\n",
    "from itertools import permutations"
   ]
  },
  {
   "cell_type": "code",
   "execution_count": 2,
   "metadata": {},
   "outputs": [
    {
     "data": {
      "text/plain": [
       "[3, 8, 1001, 8, 10, 8, 105, 1, 0, 0]"
      ]
     },
     "execution_count": 2,
     "metadata": {},
     "output_type": "execute_result"
    }
   ],
   "source": [
    "# Open data, convert every digit to integer, and split the data. \n",
    "opcodes = [int(x) for x in open('d7p1input').read().split(',')]\n",
    "opcodes[:10]"
   ]
  },
  {
   "cell_type": "code",
   "execution_count": 3,
   "metadata": {},
   "outputs": [],
   "source": [
    "# Upgrade of day 5  \n",
    "def readOpcode(code, amplifiers):\n",
    "    '''\n",
    "    Function takes two arguments: \n",
    "    1. opcode: a list of integers\n",
    "    2. amplifiers: a list of lists\n",
    "    \n",
    "    The first list serves as the instructions for the function to follow. The second list is a list of lists which will be iterated over to obtain the maximum signal. \n",
    "    '''\n",
    "    # Biggest_signal represents the highest signal reached by the iterator \n",
    "    biggest_signal = 0\n",
    "    filedata = []\n",
    "    \n",
    "    # Iterate over each permutation of amplifiers\n",
    "    for seq in amplifiers: \n",
    "        del filedata[:]\n",
    "        # Create a list of lists of the initial opcode to iterate over \n",
    "        filedata = [code for _ in range(5)]\n",
    "        positions = [0,0,0,0,0]\n",
    "        \n",
    "        # Phase argument for first input copy \n",
    "        phase = {0:False, 1:False, 2:False, 3:False, 4:False}\n",
    "        \n",
    "        # Initiate signal as 0 to update and split the opcode \n",
    "        signal = 0\n",
    "        loop = 0\n",
    "        halt_me = False\n",
    "        while True: \n",
    "            # Loops the opcode through all elements of the amplifier. \n",
    "            for x in range(0,5): \n",
    "                # Resets i parameter before each run in the while loop\n",
    "                sig_in = signal \n",
    "                i = positions[x]\n",
    "                opcode = filedata[x]\n",
    "                # Code now looks at each position individually instead of in chunks \n",
    "                while i < len(opcode): \n",
    "                    # Identifies the parameter conditions of each instruction and determines whether to initiate immediately or from memory\n",
    "                    lastDigits = opcode[i] % 100\n",
    "                    param1_mode = 0 if opcode[i] < 100 else (opcode[i] // 100) % 10\n",
    "                    param2_mode = 0 if opcode[i] < 1000 else (opcode[i] // 1000) % 10\n",
    "                    param3_mode = 0 if opcode[i] < 10000 else (opcode[i] // 10000) % 10\n",
    "                    i += 1\n",
    "                    out_str = ''\n",
    "                    if lastDigits < 99:\n",
    "                        param1 = opcode[i] if param1_mode == 1 else opcode[opcode[i]]\n",
    "                        out_str += str(param1) + ', '\n",
    "                        i += 1\n",
    "                    if (lastDigits < 3 or lastDigits > 4) and lastDigits < 99:\n",
    "                        param2 = opcode[i] if param2_mode == 1 else opcode[opcode[i]]\n",
    "                        out_str += str(param2) + ', '\n",
    "                        i += 1\n",
    "                    if (lastDigits < 3 or lastDigits > 6) and lastDigits < 99:\n",
    "                        param3 = opcode[i] if param3_mode == 1 else opcode[i]\n",
    "                        out_str += str(param3) + ', '\n",
    "                        i += 1\n",
    "                    \n",
    "                    # Instructions for each set of lastDigits\n",
    "                    if lastDigits in (1, 2):\n",
    "                        opcode[param3] = param1 + param2 if lastDigits == 1 else param1 * param2\n",
    "                    elif lastDigits == 3:\n",
    "                        opcode[opcode[i - 1]] = seq[x] if phase[x] == False else signal\n",
    "                        phase[x] = True\n",
    "                    elif lastDigits == 4:\n",
    "                        signal = param1\n",
    "                        if signal > biggest_signal:\n",
    "                            biggest_signal = signal\n",
    "                            best_seq = seq\n",
    "                        positions[x] = i\n",
    "                        break;\n",
    "                    elif lastDigits == 5:\n",
    "                        i = param2 if param1 != 0 else i\n",
    "                        continue;\n",
    "                    elif lastDigits == 6:\n",
    "                        i = param2 if param1 == 0 else i\n",
    "                        continue;\n",
    "                    elif lastDigits == 7:\n",
    "                        opcode[param3] = 1 if param1 < param2 else 0\n",
    "                    elif lastDigits == 8:\n",
    "                        opcode[param3] = 1 if param1 == param2 else 0\n",
    "                    elif lastDigits == 99:\n",
    "                        halt_me = True\n",
    "                        break;\n",
    "                if halt_me: \n",
    "                    break;\n",
    "            if halt_me: \n",
    "                break;\n",
    "            loop += 1\n",
    "            \n",
    "    # Last item on the list is the answer\n",
    "    return biggest_signal "
   ]
  },
  {
   "cell_type": "code",
   "execution_count": 4,
   "metadata": {},
   "outputs": [],
   "source": [
    "## Part 1 \n",
    "# Creates a list with every permutation of a list containing 0,1,2,3,4.\n",
    "inputPermutations = list(permutations([0,1,2,3,4],5))"
   ]
  },
  {
   "cell_type": "code",
   "execution_count": 5,
   "metadata": {},
   "outputs": [
    {
     "data": {
      "text/plain": [
       "79723"
      ]
     },
     "execution_count": 5,
     "metadata": {},
     "output_type": "execute_result"
    }
   ],
   "source": [
    "# Runs a loop on every permutation\n",
    "readOpcode(opcodes, inputPermutations)"
   ]
  },
  {
   "cell_type": "code",
   "execution_count": 6,
   "metadata": {},
   "outputs": [
    {
     "data": {
      "text/plain": [
       "70602018"
      ]
     },
     "execution_count": 6,
     "metadata": {},
     "output_type": "execute_result"
    }
   ],
   "source": [
    "## Part 2\n",
    "# Creates a second list based on the permutation of 5,6,7,8,9\n",
    "secondPermutation = permutations([5,6,7,8,9],5)\n",
    "\n",
    "readOpcode(opcodes, secondPermutation)"
   ]
  },
  {
   "cell_type": "code",
   "execution_count": null,
   "metadata": {},
   "outputs": [],
   "source": []
  }
 ],
 "metadata": {
  "kernelspec": {
   "display_name": "Python 3",
   "language": "python",
   "name": "python3"
  },
  "language_info": {
   "codemirror_mode": {
    "name": "ipython",
    "version": 3
   },
   "file_extension": ".py",
   "mimetype": "text/x-python",
   "name": "python",
   "nbconvert_exporter": "python",
   "pygments_lexer": "ipython3",
   "version": "3.6.8"
  }
 },
 "nbformat": 4,
 "nbformat_minor": 4
}
