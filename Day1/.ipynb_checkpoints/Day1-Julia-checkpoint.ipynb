{
 "cells": [
  {
   "cell_type": "code",
   "execution_count": 1,
   "metadata": {},
   "outputs": [],
   "source": [
    "# Import packages\n",
    "using DelimitedFiles"
   ]
  },
  {
   "cell_type": "code",
   "execution_count": 2,
   "metadata": {},
   "outputs": [
    {
     "data": {
      "text/plain": [
       "5-element Array{Float64,1}:\n",
       " 132791.0\n",
       "  78272.0\n",
       " 114679.0\n",
       "  60602.0\n",
       "  59038.0"
      ]
     },
     "execution_count": 2,
     "metadata": {},
     "output_type": "execute_result"
    }
   ],
   "source": [
    "# Read file, print out first five values\n",
    "f = readdlm(\"d1p1input\")\n",
    "f[1:5]"
   ]
  },
  {
   "cell_type": "code",
   "execution_count": 3,
   "metadata": {},
   "outputs": [
    {
     "data": {
      "text/plain": [
       "fuelRequired (generic function with 1 method)"
      ]
     },
     "execution_count": 3,
     "metadata": {},
     "output_type": "execute_result"
    }
   ],
   "source": [
    "# Function that takes as input an integer, divides by three, rounds down, and subtracts two \n",
    "function fuelRequired(mass)\n",
    "    floor(mass/3)-2\n",
    "end"
   ]
  },
  {
   "cell_type": "code",
   "execution_count": 4,
   "metadata": {},
   "outputs": [
    {
     "data": {
      "text/plain": [
       "3317659"
      ]
     },
     "execution_count": 4,
     "metadata": {},
     "output_type": "execute_result"
    }
   ],
   "source": [
    "# Iterate function over every element in f. Sum values and print as integer. \n",
    "fuel = [fuelRequired(i) for i in f]\n",
    "Int(sum(fuel))"
   ]
  },
  {
   "cell_type": "code",
   "execution_count": 5,
   "metadata": {},
   "outputs": [],
   "source": [
    "# Initiate empty array to store flattened arrays\n",
    "iFuelCorrected = Array{Int}[]\n",
    "\n",
    "# Iterate elements in fuel \n",
    "for i in fuel\n",
    "    result = i \n",
    "    iFuel = Array{Float64}[]\n",
    "    # Run fuelRequired function until results are less than 0 \n",
    "    while result >= 0 \n",
    "        result = fuelRequired(result)\n",
    "        push!(iFuel, [result])\n",
    "    end\n",
    "    # Iterate over every array within iFuel to flatten\n",
    "    for j in iFuel \n",
    "        push!(iFuelCorrected, collect(Iterators.flatten(j)))\n",
    "    end\n",
    "end "
   ]
  },
  {
   "cell_type": "code",
   "execution_count": 6,
   "metadata": {},
   "outputs": [
    {
     "data": {
      "text/plain": [
       "4973616"
      ]
     },
     "execution_count": 6,
     "metadata": {},
     "output_type": "execute_result"
    }
   ],
   "source": [
    "# Flatten array of arrays; sum iFuelCorrected and fuel\n",
    "iFuelCorrected = collect(Iterators.flatten(iFuelCorrected))\n",
    "Int(sum(iFuelCorrected[iFuelCorrected .> 0]) + sum(fuel))"
   ]
  }
 ],
 "metadata": {
  "kernelspec": {
   "display_name": "Julia 1.3.0",
   "language": "julia",
   "name": "julia-1.3"
  },
  "language_info": {
   "file_extension": ".jl",
   "mimetype": "application/julia",
   "name": "julia",
   "version": "1.3.0"
  }
 },
 "nbformat": 4,
 "nbformat_minor": 4
}
