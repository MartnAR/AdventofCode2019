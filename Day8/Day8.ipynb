{
 "cells": [
  {
   "cell_type": "code",
   "execution_count": 1,
   "metadata": {},
   "outputs": [],
   "source": [
    "# Import packages \n",
    "import numpy as np "
   ]
  },
  {
   "cell_type": "code",
   "execution_count": 2,
   "metadata": {},
   "outputs": [],
   "source": [
    "# Open data, convert every digit to integer, and split the data. \n",
    "pixels = [int(x) for x in open('d8p1input').read().split()]\n",
    "pixels = [x for x in str(pixels)][1:15001]"
   ]
  },
  {
   "cell_type": "code",
   "execution_count": 3,
   "metadata": {},
   "outputs": [],
   "source": [
    "# Define pixel shape and convert list to array \n",
    "shape = (6, 25)\n",
    "pArray = np.array(pixels)"
   ]
  },
  {
   "cell_type": "code",
   "execution_count": 4,
   "metadata": {},
   "outputs": [],
   "source": [
    "# Initiate an empty list to store each image \n",
    "ls = []\n",
    "\n",
    "# Creates a range from 0 to 15000 each 150. This will separate the pixels array to separate each image \n",
    "rng = np.arange(0, 15000, 150)\n",
    "\n",
    "# Iterate over the array, separate, and store as a separate list \n",
    "for i in rng:\n",
    "    p = pArray[i:i+150]\n",
    "    l = p.reshape(shape)\n",
    "    ls.append(l)"
   ]
  },
  {
   "cell_type": "code",
   "execution_count": 5,
   "metadata": {},
   "outputs": [],
   "source": [
    "# Initiate an empty list to store the results of each image \n",
    "results = []\n",
    "\n",
    "# Iterate over each image in ls\n",
    "for x in ls: \n",
    "    # Counters for 0s, 1s, and 2s.\n",
    "    zeros, ones, twos = 0, 0, 0\n",
    "    flatList = [i for j in x for i in j]\n",
    "    for y in flatList: \n",
    "        if y == '0': \n",
    "            zeros += 1\n",
    "        elif y == '1': \n",
    "            ones += 1\n",
    "        else: \n",
    "            twos += 1\n",
    "    results.append([zeros, ones, twos])"
   ]
  },
  {
   "cell_type": "code",
   "execution_count": 6,
   "metadata": {},
   "outputs": [
    {
     "data": {
      "text/plain": [
       "2080"
      ]
     },
     "execution_count": 6,
     "metadata": {},
     "output_type": "execute_result"
    }
   ],
   "source": [
    "# Get sublist with lowest number of zeros. Then multiply number of 1s and 2s\n",
    "minZero = min(x[0:] for x in results)\n",
    "minZero[1] * minZero[2]"
   ]
  },
  {
   "cell_type": "code",
   "execution_count": 7,
   "metadata": {},
   "outputs": [],
   "source": [
    "## Part two \n",
    "# Initiate an array that will serve as the surface on which to scan all images \n",
    "surface = np.array([2] * 150)"
   ]
  },
  {
   "cell_type": "code",
   "execution_count": 8,
   "metadata": {},
   "outputs": [],
   "source": [
    "# Iterate over each image. \n",
    "for i in ls: \n",
    "    # Flatten the list of list for better iteration\n",
    "    flatList = [int(x) for j in i for x in j]\n",
    "    # If the element within the list is 0, then it is \"colored in\". 0s outrank 2s, 1s outrank 0s.  \n",
    "    for y in range(len(flatList)): \n",
    "        if flatList[y] == 0 and surface[y] == 2:\n",
    "            surface[y] = 0\n",
    "        elif flatList[y] == 0 and surface[y] == 1:\n",
    "            surface[y] = 1\n",
    "        elif flatList[y] == 1 and surface[y] == 2:\n",
    "            surface[y] = 1\n",
    "        elif flatList[y] == 2 and surface[y] == 2:\n",
    "            surface[y] = 2"
   ]
  },
  {
   "cell_type": "code",
   "execution_count": 9,
   "metadata": {},
   "outputs": [
    {
     "name": "stdout",
     "output_type": "stream",
     "text": [
      "[0 1 1 0 0 1 0 0 1 0 1 1 1 0 0 0 1 1 0 0 1 0 0 0 1]\n",
      "[1 0 0 1 0 1 0 0 1 0 1 0 0 1 0 1 0 0 1 0 1 0 0 0 1]\n",
      "[1 0 0 1 0 1 0 0 1 0 1 0 0 1 0 1 0 0 0 0 0 1 0 1 0]\n",
      "[1 1 1 1 0 1 0 0 1 0 1 1 1 0 0 1 0 0 0 0 0 0 1 0 0]\n",
      "[1 0 0 1 0 1 0 0 1 0 1 0 1 0 0 1 0 0 1 0 0 0 1 0 0]\n",
      "[1 0 0 1 0 0 1 1 0 0 1 0 0 1 0 0 1 1 0 0 0 0 1 0 0]\n"
     ]
    }
   ],
   "source": [
    "# Reshape the newly colored surface in a 6 x 25 matrix \n",
    "final = surface.reshape(shape)\n",
    "\n",
    "# Print the surface. \n",
    "for i in final:\n",
    "    print(i)"
   ]
  },
  {
   "cell_type": "code",
   "execution_count": null,
   "metadata": {},
   "outputs": [],
   "source": []
  }
 ],
 "metadata": {
  "kernelspec": {
   "display_name": "Python 3",
   "language": "python",
   "name": "python3"
  },
  "language_info": {
   "codemirror_mode": {
    "name": "ipython",
    "version": 3
   },
   "file_extension": ".py",
   "mimetype": "text/x-python",
   "name": "python",
   "nbconvert_exporter": "python",
   "pygments_lexer": "ipython3",
   "version": "3.6.8"
  }
 },
 "nbformat": 4,
 "nbformat_minor": 4
}
