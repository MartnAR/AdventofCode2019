{
 "cells": [
  {
   "cell_type": "code",
   "execution_count": 1,
   "metadata": {},
   "outputs": [],
   "source": [
    "# Import packages \n",
    "import re"
   ]
  },
  {
   "cell_type": "code",
   "execution_count": 2,
   "metadata": {},
   "outputs": [
    {
     "data": {
      "text/plain": [
       "['DGS)1HY', 'FYY)13C', 'RPN)9C5', 'NNV)CVR', 'BVN)BCH']"
      ]
     },
     "execution_count": 2,
     "metadata": {},
     "output_type": "execute_result"
    }
   ],
   "source": [
    "# Load day 6 input\n",
    "input1 = [x for x in open('d6p1input').read().split('\\n')]\n",
    "input1[:5]"
   ]
  },
  {
   "cell_type": "code",
   "execution_count": 3,
   "metadata": {},
   "outputs": [
    {
     "data": {
      "text/plain": [
       "[['DGS', '1HY'],\n",
       " ['FYY', '13C'],\n",
       " ['RPN', '9C5'],\n",
       " ['NNV', 'CVR'],\n",
       " ['BVN', 'BCH']]"
      ]
     },
     "execution_count": 3,
     "metadata": {},
     "output_type": "execute_result"
    }
   ],
   "source": [
    "# Since each element in list is in the manner of AAA)BBB, it needs to be split by the ')'. \n",
    "cleanInput = [re.split('\\)',i,2) for i in input1]\n",
    "cleanInput[:5]"
   ]
  },
  {
   "cell_type": "markdown",
   "metadata": {},
   "source": [
    "Because I had trouble with this problem, I checked John Choiniere's [code](https://github.com/johnchoiniere/advent_of_code_2019/tree/master/day_6) for the day 6 solution. "
   ]
  },
  {
   "cell_type": "code",
   "execution_count": 4,
   "metadata": {},
   "outputs": [
    {
     "data": {
      "text/plain": [
       "[['COM', 'KYQ']]"
      ]
     },
     "execution_count": 4,
     "metadata": {},
     "output_type": "execute_result"
    }
   ],
   "source": [
    "## Part 1 \n",
    "# Identify the starting element COM using regex and stare in chains list \n",
    "# Changed from John's code\n",
    "chains = list(filter(None, [x for x in cleanInput if re.findall(r'COM', x[0])])) \n",
    "chains"
   ]
  },
  {
   "cell_type": "code",
   "execution_count": 5,
   "metadata": {},
   "outputs": [],
   "source": [
    "for c in chains: \n",
    "    for i in cleanInput: \n",
    "        if c[len(c) - 1] == i[0]:\n",
    "            newchain = c + [i[1]]\n",
    "            chains.append(newchain)"
   ]
  },
  {
   "cell_type": "code",
   "execution_count": 6,
   "metadata": {},
   "outputs": [
    {
     "data": {
      "text/plain": [
       "227612"
      ]
     },
     "execution_count": 6,
     "metadata": {},
     "output_type": "execute_result"
    }
   ],
   "source": [
    "counter = 0\n",
    "for x in chains: \n",
    "    counter += len(x) - 1\n",
    "    \n",
    "counter"
   ]
  },
  {
   "cell_type": "code",
   "execution_count": 7,
   "metadata": {},
   "outputs": [],
   "source": [
    "## Part 2 \n",
    "# Adapted from John's code to use regex \n",
    "obj1 = list(filter(None, [x for x in chains if re.findall(r'SAN', x[-1])]))[0]\n",
    "obj2 = list(filter(None, [x for x in chains if re.findall(r'YOU', x[-1])]))[0]"
   ]
  },
  {
   "cell_type": "code",
   "execution_count": 8,
   "metadata": {},
   "outputs": [],
   "source": [
    "# Adapted from John's code to use sets instead of list comprehension. \n",
    "obj1Unique = set(obj1) - set(obj2)\n",
    "obj2Unique = set(obj2) - set(obj1)"
   ]
  },
  {
   "cell_type": "code",
   "execution_count": 9,
   "metadata": {},
   "outputs": [
    {
     "data": {
      "text/plain": [
       "454"
      ]
     },
     "execution_count": 9,
     "metadata": {},
     "output_type": "execute_result"
    }
   ],
   "source": [
    "len(obj1Unique) + len(obj2Unique) - 2"
   ]
  }
 ],
 "metadata": {
  "kernelspec": {
   "display_name": "Python 3",
   "language": "python",
   "name": "python3"
  },
  "language_info": {
   "codemirror_mode": {
    "name": "ipython",
    "version": 3
   },
   "file_extension": ".py",
   "mimetype": "text/x-python",
   "name": "python",
   "nbconvert_exporter": "python",
   "pygments_lexer": "ipython3",
   "version": "3.6.8"
  }
 },
 "nbformat": 4,
 "nbformat_minor": 4
}
