{
 "cells": [
  {
   "cell_type": "code",
   "execution_count": 1,
   "metadata": {},
   "outputs": [],
   "source": [
    "# Import library packages \n",
    "import math"
   ]
  },
  {
   "cell_type": "code",
   "execution_count": 2,
   "metadata": {},
   "outputs": [],
   "source": [
    "# Import data \n",
    "with open('d1p1input', 'r') as f: \n",
    "    data = f.read()"
   ]
  },
  {
   "cell_type": "code",
   "execution_count": 3,
   "metadata": {},
   "outputs": [],
   "source": [
    "# Clean data by splitting, dropping last element in list which is empty, and converting elements to integers\n",
    "input1 = data.split('\\n')\n",
    "input1 = input1[:-1]\n",
    "input1 = list(map(int, input1))"
   ]
  },
  {
   "cell_type": "code",
   "execution_count": 8,
   "metadata": {},
   "outputs": [],
   "source": [
    "## Part 1 \n",
    "# Create a function that calculates the required fuel per mass\n",
    "def fuelRequired(mass):\n",
    "    \"\"\"\n",
    "    Function must take the mass input, divide by 3, round down to the nearest integer, and then subtract 2. \n",
    "    \"\"\"\n",
    "    fuelNeeded = math.floor(mass/3) - 2   \n",
    "    return fuelNeeded"
   ]
  },
  {
   "cell_type": "code",
   "execution_count": 7,
   "metadata": {},
   "outputs": [
    {
     "data": {
      "text/plain": [
       "3317659"
      ]
     },
     "execution_count": 7,
     "metadata": {},
     "output_type": "execute_result"
    }
   ],
   "source": [
    "# Iterate fuelRequired over all mass inputs \n",
    "fuel = [fuelRequired(x) for x in input1]\n",
    "sum(fuel)"
   ]
  },
  {
   "cell_type": "code",
   "execution_count": 9,
   "metadata": {},
   "outputs": [],
   "source": [
    "## Part 2 \n",
    "# Using the results of part 1, calculate the additional fuel required for each element in fuelNeeded. The process must be iterated until every element reaches 0 or less.\n",
    "\n",
    "# Initiate empty list\n",
    "totalFuel = []\n",
    "\n",
    "# Iterate elements in fuel \n",
    "for i in fuel: \n",
    "    iFuel = []\n",
    "    result = i \n",
    "    # Runs result while result is greater than 0 \n",
    "    while result >= 0: \n",
    "        result = fuelRequired(result)\n",
    "        iFuel.append(result)\n",
    "    # Elements that are 0 or less must be treated as 0 \n",
    "    iFuelCorrected = [0 if f <= 0 else f for f in iFuel]\n",
    "    \n",
    "    # Sum elements and append to list \n",
    "    sumFuelCorrected = sum(iFuelCorrected)\n",
    "    totalFuel.append(sumFuelCorrected)"
   ]
  },
  {
   "cell_type": "code",
   "execution_count": 10,
   "metadata": {},
   "outputs": [
    {
     "data": {
      "text/plain": [
       "4973616"
      ]
     },
     "execution_count": 10,
     "metadata": {},
     "output_type": "execute_result"
    }
   ],
   "source": [
    "sum(totalFuel) + sum(fuel)"
   ]
  }
 ],
 "metadata": {
  "kernelspec": {
   "display_name": "Python 3",
   "language": "python",
   "name": "python3"
  },
  "language_info": {
   "codemirror_mode": {
    "name": "ipython",
    "version": 3
   },
   "file_extension": ".py",
   "mimetype": "text/x-python",
   "name": "python",
   "nbconvert_exporter": "python",
   "pygments_lexer": "ipython3",
   "version": "3.6.8"
  }
 },
 "nbformat": 4,
 "nbformat_minor": 4
}
