{
 "cells": [
  {
   "cell_type": "code",
   "execution_count": 28,
   "metadata": {},
   "outputs": [],
   "source": [
    "# Import packages \n",
    "import numpy as np \n",
    "import re \n",
    "from scipy.spatial import distance\n",
    "import matplotlib.pyplot as plt "
   ]
  },
  {
   "cell_type": "code",
   "execution_count": 7,
   "metadata": {},
   "outputs": [
    {
     "data": {
      "text/plain": [
       "['R994,U598,L555,D997,R997,U529,L251,U533,R640,U120,L813,U927,L908,U214,L276,U306,L679,U187,R156,D654,L866,D520,R299,U424,R683,U49,R965,U531,R303,D4,L210,U425,R99,D892,R564,D671,L294,D908,L89,U855,R275,U790,R214,D588,L754,D873,R297,D97,R979,U850,L953,D281,L580,D254,L747,U115,L996,U641,R976,U585,L383,U498,L112,U329,R650,U772,L952,U325,L861,U831,R71,D853,R696,D812,R389,U456,L710,D116,R789,D829,L57,D940,R908,U569,R617,D832,L492,D397,R152,U898,L960,D806,L867,U928,L617,D281,L516,D214,R426,U530,R694,U774,L752,U215,L930,U305,R463,U774,R234,U786,R425,U470,R90,D383,R692,D626,L160,D588,L141,D351,R574,D237,L869,D499,R873,U856,R148,D919,L582,D804,L413,U201,L247,U907,L828,D279,L28,D950,L587,U290,R636,U344,L591,U118,L614,U203,R381,U634,L301,D197,R594,D373,L459,U504,L703,U852,L672,U613,R816,D712,R813,U97,R824,D690,L556,D308,L568,D924,L384,U540,R745,D679,R705,D808,L346,U927,R145,U751,L769,D152,L648,D553,L738,U456,R864,U486,R894,D923,R76,U211,L78,U145,R977,U297,R93,U200,L71,U665,L392,D309,L399,D594,R118,U552,L328,U317,R369,D109,L673,D306,R441,U836,L305,D59,L870,U648,L817,D381,R676,U711,R115,U344,L815,U286,R194,U526,R844,U106,L547,D312,L116,U783,R786,D390,L115,D483,R691,U802,R569,U13,R854,D90,R22,D819,L440,D13,R438,D640,L952,D394,R984,D825,R1,D554,R349,U746,L816,U301,L397,D85,R437,D746,L698,D75,L964,U155,L268,U612,R838,D338,L188,U38,R830,U538,L245,D885,R194,D989,R8,D69,L268,D677,R163,U784,L308,U605,L737,U919,R117,U449,R698,U547,L134,D860,L234,U923,R495,D55,R954,D531,L212',\n",
       " 'L1005,D937,L260,D848,R640,U358,R931,U495,R225,U344,R595,U754,L410,D5,R52,D852,L839,D509,R755,D983,R160,U522,R795,D465,R590,U558,R552,U332,R330,U752,R860,D503,L456,U254,R878,D164,R991,U569,R44,U112,L258,U168,L552,U68,R414,U184,R458,D58,R319,U168,R501,D349,R204,D586,R241,U575,L981,D819,L171,D811,L960,U495,R192,D725,R718,D346,R399,D692,L117,D215,L390,U364,L700,D207,R372,U767,L738,D844,L759,D211,R287,U964,R328,D800,R823,U104,L524,D68,R714,D633,R565,D373,R883,U327,R222,D318,L58,D451,R555,D687,R807,U638,L717,U298,R849,D489,L159,D692,L136,U242,R884,U202,R419,U41,L980,U483,R966,D513,L870,D306,R171,D585,R71,D320,R914,U991,R706,U440,R542,D219,L969,U9,R481,U164,R919,U17,L750,U775,R173,U515,L191,D548,L515,U54,L132,U56,R203,U544,L796,D508,L321,D517,L358,U12,L892,D472,L378,U121,L974,U36,R56,D758,L680,D17,L369,D72,L926,D466,L866,U850,R300,D597,L848,U17,L890,D739,L275,U560,L640,U602,R238,U919,R636,D188,R910,D992,L13,U241,R77,U857,R453,U883,L881,D267,R28,U928,R735,U731,L701,D795,R371,U652,R416,D129,R142,D30,R442,U513,R827,U455,L429,D804,R966,D565,R326,U398,R621,U324,L684,D235,L467,D575,L200,D442,R320,D550,R278,U929,R555,U537,L416,U98,R991,D271,L764,U841,L273,D782,R356,D447,R340,U413,R543,U260,L365,D529,R721,U542,L648,U366,R494,U243,L872,U201,L440,U232,R171,D608,R282,U484,R81,D320,R274,D760,L250,U749,L132,D162,L340,D308,L149,D5,L312,U547,R686,D684,R133,D876,L531,U572,R62,D142,L218,U703,L884,U64,L889,U887,R228,U534,R624,D524,R522,D452,L550,U959,R981,U139,R35,U98,R212']"
      ]
     },
     "execution_count": 7,
     "metadata": {},
     "output_type": "execute_result"
    }
   ],
   "source": [
    "# Load day 3 input \n",
    "input1 = [x for x in open('d3p1input').read().split('\\n')]\n",
    "input1"
   ]
  },
  {
   "cell_type": "code",
   "execution_count": 27,
   "metadata": {},
   "outputs": [],
   "source": [
    "## Part 1 \n",
    "# Split data by comma and insert into list \n",
    "u1 = list(input1[0].split(','))\n",
    "v1 = list(input1[1].split(','))"
   ]
  },
  {
   "cell_type": "code",
   "execution_count": 129,
   "metadata": {},
   "outputs": [],
   "source": [
    "# Initiate empty lists starting at 0 for x and y values for both u and v coordinates. \n",
    "# Iterate over each coordinate, and add/subtract dependending on the initial command. \n",
    "ux = [0]\n",
    "uy = [0]\n",
    "\n",
    "for i in range(len(u1)): \n",
    "    ux0 = ux[-1]\n",
    "    uy0 = uy[-1]\n",
    "    if re.sub('\\d', '', u1[i]) == 'R':\n",
    "        uy1 = uy0 + int(re.sub('\\D', '', u1[i]))\n",
    "        uy.append(uy1)\n",
    "        ux.append(ux0)\n",
    "    elif re.sub('\\d', '', u1[i]) == 'L':\n",
    "        uy1 = uy0 - int(re.sub('\\D', '', u1[i]))\n",
    "        uy.append(uy1)\n",
    "        ux.append(ux0)\n",
    "    elif re.sub('\\d', '', u1[i]) == 'U':\n",
    "        ux1 = ux0 + int(re.sub('\\D', '', u1[i]))\n",
    "        ux.append(ux1)\n",
    "        uy.append(uy0)\n",
    "    else: \n",
    "        ux1 = ux0 - int(re.sub('\\D', '', u1[i]))\n",
    "        ux.append(ux1)\n",
    "        uy.append(uy0)"
   ]
  },
  {
   "cell_type": "code",
   "execution_count": 141,
   "metadata": {},
   "outputs": [],
   "source": [
    "vx = [0]\n",
    "vy = [0]\n",
    "\n",
    "for i in range(len(v1)): \n",
    "    vx0 = vx[-1]\n",
    "    vy0 = vy[-1]\n",
    "    if re.sub('\\d', '', v1[i]) == 'R':\n",
    "        vy1 = vy0 + int(re.sub('\\D', '', v1[i]))\n",
    "        vy.append(vy1)\n",
    "        vx.append(vx0)\n",
    "    elif re.sub('\\d', '', v1[i]) == 'L':\n",
    "        vy1 = vy0 - int(re.sub('\\D', '', v1[i]))\n",
    "        vy.append(vy1)\n",
    "        vx.append(vx0)\n",
    "    elif re.sub('\\d', '', v1[i]) == 'U':\n",
    "        vx1 = vx0 + int(re.sub('\\D', '', v1[i]))\n",
    "        vx.append(vx1)\n",
    "        vy.append(vy0)\n",
    "    else: \n",
    "        vx1 = vx0 - int(re.sub('\\D', '', v1[i]))\n",
    "        vx.append(vx1)\n",
    "        vy.append(vy0)"
   ]
  },
  {
   "cell_type": "code",
   "execution_count": 146,
   "metadata": {},
   "outputs": [],
   "source": [
    "# Convert lists to arrays\n",
    "ux = np.array(ux)\n",
    "uy = np.array(uy)\n",
    "vx = np.array(vx)\n",
    "vy = np.array(vy)"
   ]
  },
  {
   "cell_type": "code",
   "execution_count": 262,
   "metadata": {},
   "outputs": [
    {
     "data": {
      "image/png": "[encoded data removed]",
      "text/plain": [
       "<Figure size 1200x960 with 1 Axes>"
      ]
     },
     "metadata": {},
     "output_type": "display_data"
    }
   ],
   "source": [
    "# Plot figures with intersection points\n",
    "plt.figure(num=None, figsize=(15, 12), dpi=80, facecolor='w', edgecolor='k')\n",
    "plt.plot(uy, ux, '-')\n",
    "plt.plot(vy, vx, '-')\n",
    "\n",
    "plt.plot(768, 0, 'ro')\n",
    "plt.plot(768, -399, 'go')\n",
    "plt.plot(994, 166, 'bo')\n",
    "plt.plot(1126, -399, 'yo')\n",
    "plt.show()"
   ]
  },
  {
   "cell_type": "code",
   "execution_count": 264,
   "metadata": {},
   "outputs": [],
   "source": [
    "# Initiate tuples with each intersection point to calculate Manhattan distance \n",
    "origin = (0, 0)\n",
    "intersect1 = (768, 0)\n",
    "intersect2 = (768, -399)\n",
    "intersect3 = (994, 166)\n",
    "intersect4 = (1126, -399)"
   ]
  },
  {
   "cell_type": "code",
   "execution_count": 265,
   "metadata": {},
   "outputs": [
    {
     "name": "stdout",
     "output_type": "stream",
     "text": [
      "768\n",
      "1167\n",
      "1160\n",
      "1525\n"
     ]
    }
   ],
   "source": [
    "print(distance.cityblock(intersect1, origin))\n",
    "print(distance.cityblock(intersect2, origin))\n",
    "print(distance.cityblock(intersect3, origin))\n",
    "print(distance.cityblock(intersect4, origin))"
   ]
  },
  {
   "cell_type": "code",
   "execution_count": 267,
   "metadata": {},
   "outputs": [
    {
     "name": "stdout",
     "output_type": "stream",
     "text": [
      "0 (0, 0)\n",
      "1 (994, 0)\n",
      "2 (994, 598)\n"
     ]
    }
   ],
   "source": [
    "## Part2\n",
    "# Calculate shortest traversed distance from origin to intersection. \n",
    "# Closest intersection occurs at (994, 166)\n",
    "\n",
    "# (994, 166) is crossed on the third step of u list \n",
    "for i in range(3): \n",
    "    print(i, (uy[i], ux[i]))"
   ]
  },
  {
   "cell_type": "code",
   "execution_count": 270,
   "metadata": {},
   "outputs": [
    {
     "name": "stdout",
     "output_type": "stream",
     "text": [
      "0 (0, 0)\n",
      "1 (-1005, 0)\n",
      "2 (-1005, -937)\n",
      "3 (-1265, -937)\n",
      "4 (-1265, -1785)\n",
      "5 (-625, -1785)\n",
      "6 (-625, -1427)\n",
      "7 (306, -1427)\n",
      "8 (306, -932)\n",
      "9 (531, -932)\n",
      "10 (531, -588)\n",
      "11 (1126, -588)\n",
      "12 (1126, 166)\n",
      "13 (716, 166)\n"
     ]
    }
   ],
   "source": [
    "# (994, 166) is crossed between steps 12 and 13 of v list \n",
    "for i in range(14):\n",
    "    print(i, (vy[i], vx[i]))"
   ]
  },
  {
   "cell_type": "code",
   "execution_count": 272,
   "metadata": {},
   "outputs": [
    {
     "data": {
      "text/plain": [
       "8684"
      ]
     },
     "execution_count": 272,
     "metadata": {},
     "output_type": "execute_result"
    }
   ],
   "source": [
    "# Add absolute distances of all steps \n",
    "uDist = 994 + 166\n",
    "vDist = 1005 + 937 + 260 + 848 + 640 + 358 + 931 + 495 + 225 + 344 + 595 + 754 + (1126-994)\n",
    "uDist + vDist"
   ]
  },
  {
   "cell_type": "code",
   "execution_count": 275,
   "metadata": {},
   "outputs": [],
   "source": [
    "# More elegant solution to parts 1 and 2 from jonathan_paulson with corrections by mcpower_ \n",
    "# on Reddit post https://www.reddit.com/r/adventofcode/comments/e5bz2w/2019_day_3_solutions/\n",
    "\n",
    "A, B = list(map(str.rstrip, open('d3p1input')))\n",
    "A, B = [x.split(',') for x in [A, B]]"
   ]
  },
  {
   "cell_type": "code",
   "execution_count": 276,
   "metadata": {},
   "outputs": [],
   "source": [
    "DX = dict(zip('LRUD', [-1, 1, 0, 0]))\n",
    "DY = dict(zip('LRUD', [0, 0, 1, -1]))"
   ]
  },
  {
   "cell_type": "code",
   "execution_count": 220,
   "metadata": {},
   "outputs": [],
   "source": [
    "def get_points(A):\n",
    "    '''\n",
    "    Starts x and y at coordinates (0, 0). Length counts +1 in any direction the lines move, making sure that there is one mark for each coordinate passed. This makes it\n",
    "    easier to find intersections. \n",
    "    '''\n",
    "    x = 0\n",
    "    y = 0\n",
    "    length = 0\n",
    "    # Answers are stored in a dictionary \n",
    "    ans = {}\n",
    "    # For every LRUD command in the input list \n",
    "    for cmd in A:\n",
    "        d = cmd[0]\n",
    "        n = int(cmd[1:])\n",
    "        assert d in ['L', 'R', 'U', 'D']\n",
    "        for _ in range(n):\n",
    "            # x and y are changed by 1 in direction D. This will help with part 1\n",
    "            x += DX[d]\n",
    "            y += DY[d]\n",
    "            # Length always increases by 1. This helps with part 2 \n",
    "            length += 1\n",
    "            if (x,y) not in ans:\n",
    "                ans[(x,y)] = length\n",
    "    return ans"
   ]
  },
  {
   "cell_type": "code",
   "execution_count": 221,
   "metadata": {},
   "outputs": [],
   "source": [
    "# Get all coordinate points that A and B cross\n",
    "PA = get_points(A)\n",
    "PB = get_points(B)"
   ]
  },
  {
   "cell_type": "code",
   "execution_count": 277,
   "metadata": {},
   "outputs": [
    {
     "name": "stdout",
     "output_type": "stream",
     "text": [
      "{(768, -399), (1126, -399), (994, 166), (768, 0)}\n"
     ]
    }
   ],
   "source": [
    "# Create a dictionary of the four coordinates where lines A and B intersect. Notice they are the same points marked on the earlier plot. \n",
    "both = set(PA.keys()) & set(PB.keys())\n",
    "print(both)"
   ]
  },
  {
   "cell_type": "code",
   "execution_count": 282,
   "metadata": {},
   "outputs": [
    {
     "name": "stdout",
     "output_type": "stream",
     "text": [
      "Answer 1: 768\n",
      "Answer 2: 8684\n"
     ]
    }
   ],
   "source": [
    "# Part one requires we find the Manhattan distance between x and y on each intersection. I changed part 1 to use distance.cityblock instead of abs(x) + abs(y)\n",
    "part1 = min(distance.cityblock(x, y) for (x,y) in both)\n",
    "\n",
    "# Part two requires we find the absolute distance from the origin to the closest intersection. \n",
    "part2 = min([PA[p] + PB[p] for p in both])\n",
    "print(\"Answer 1: {}\\nAnswer 2: {}\".format(part1, part2))\n",
    "\n",
    "# Notice that these are the same answers obtained in my original (and longer, less intuitive, highly manual) code. "
   ]
  }
 ],
 "metadata": {
  "kernelspec": {
   "display_name": "Python 3",
   "language": "python",
   "name": "python3"
  },
  "language_info": {
   "codemirror_mode": {
    "name": "ipython",
    "version": 3
   },
   "file_extension": ".py",
   "mimetype": "text/x-python",
   "name": "python",
   "nbconvert_exporter": "python",
   "pygments_lexer": "ipython3",
   "version": "3.6.8"
  }
 },
 "nbformat": 4,
 "nbformat_minor": 4
}
